{
 "cells": [
  {
   "cell_type": "code",
   "execution_count": null,
   "metadata": {
    "collapsed": true
   },
   "outputs": [],
   "source": [
    "import logging\n",
    "import sys\n",
    "from rx import Observable as O\n",
    "logging.basicConfig(stream=sys.stdout,\n",
    "                    level=logging.INFO,\n",
    "                    format='%(asctime)s %(levelname)s %(threadName)s [%(filename)s:%(lineno)d] %(message)s')\n",
    "logger = logging.getLogger(__name__)\n",
    "\n",
    "\n",
    "source = O.from_(range(10))\n",
    "obs = {\n",
    "    'on_next': logger.info,\n",
    "    'on_error': lambda e: logger.error(e.message, e),\n",
    "    'on_completed': lambda: logger.info('Completed')\n",
    "}\n",
    "\n",
    "dis = source.subscribe(**obs)\n",
    "dis.dispose()"
   ]
  },
  {
   "cell_type": "code",
   "execution_count": null,
   "metadata": {},
   "outputs": [],
   "source": [
    ""
   ]
  }
 ],
 "metadata": {
  "kernelspec": {
   "display_name": "Python 2",
   "language": "python",
   "name": "python2"
  },
  "language_info": {
   "codemirror_mode": {
    "name": "ipython",
    "version": 2.0
   },
   "file_extension": ".py",
   "mimetype": "text/x-python",
   "name": "python",
   "nbconvert_exporter": "python",
   "pygments_lexer": "ipython2",
   "version": "2.7.6"
  }
 },
 "nbformat": 4,
 "nbformat_minor": 0
}